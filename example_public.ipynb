{
 "cells": [
  {
   "cell_type": "code",
   "execution_count": 1,
   "id": "3b04c41b-56d7-46f8-bf8c-8f152892692a",
   "metadata": {},
   "outputs": [],
   "source": [
    "import time\n",
    "import pandas as pd"
   ]
  },
  {
   "cell_type": "code",
   "execution_count": 2,
   "id": "01b937ec-afcf-4ad1-9830-99e3c05d38f5",
   "metadata": {},
   "outputs": [],
   "source": [
    "time = time.localtime()"
   ]
  },
  {
   "cell_type": "code",
   "execution_count": 6,
   "id": "56a13122-afb9-4d55-91ad-dff2155d4df6",
   "metadata": {},
   "outputs": [],
   "source": [
    "hours = ('0'+str(time[3]))[-2:]\n",
    "minutes = ('0'+str(time[4]))[-2:]\n",
    "seconds = ('0'+str(time[5]))[-2:]\n",
    "\n",
    "data = {\n",
    "    \"Rok\":time[0],\n",
    "    \"Miesiąc\":time[1],\n",
    "    \"Dzień\":time[2],\n",
    "    \"Godzina\":hours+':'+minutes+':'+seconds\n",
    "}"
   ]
  },
  {
   "cell_type": "code",
   "execution_count": 7,
   "id": "9411133c-9964-4ed5-90c0-f03c998e6db1",
   "metadata": {},
   "outputs": [],
   "source": [
    "months = ['Stycznia','Lutego','Marca','Kwietnia','Maja','Czerwca','Lipica','Sierpnia','Września','Października','Listopada','Grudnia']\n",
    "nazwa_miesiaca = months[int(data[\"Miesiąc\"])+1]"
   ]
  },
  {
   "cell_type": "code",
   "execution_count": 8,
   "id": "3d82209e-b4a4-43ab-acfb-779a9600eef5",
   "metadata": {},
   "outputs": [
    {
     "name": "stdout",
     "output_type": "stream",
     "text": [
      "Dziś mamy 30 dzień miesiąca Października roku 2022, godzina 10:15:38.\n"
     ]
    }
   ],
   "source": [
    "print('Dziś mamy {} dzień miesiąca {} roku {}, godzina {}.'.format(data[\"Dzień\"],months[int(data[\"Miesiąc\"])-1],data[\"Rok\"],data[\"Godzina\"]))"
   ]
  }
 ],
 "metadata": {
  "kernelspec": {
   "display_name": "Python 3 (ipykernel)",
   "language": "python",
   "name": "python3"
  },
  "language_info": {
   "codemirror_mode": {
    "name": "ipython",
    "version": 3
   },
   "file_extension": ".py",
   "mimetype": "text/x-python",
   "name": "python",
   "nbconvert_exporter": "python",
   "pygments_lexer": "ipython3",
   "version": "3.9.12"
  }
 },
 "nbformat": 4,
 "nbformat_minor": 5
}
